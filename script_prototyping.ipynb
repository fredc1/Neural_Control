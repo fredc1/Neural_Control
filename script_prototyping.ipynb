{
 "cells": [
  {
   "cell_type": "code",
   "execution_count": 5,
   "metadata": {},
   "outputs": [
    {
     "name": "stdout",
     "output_type": "stream",
     "text": [
      "Defaulting to user installation because normal site-packages is not writeable\n",
      "Collecting scipy\n",
      "  Downloading scipy-1.9.3-cp38-cp38-macosx_10_9_x86_64.whl (34.2 MB)\n",
      "\u001b[2K     \u001b[90m━━━━━━━━━━━━━━━━━━━━━━━━━━━━━━━━━━━━━━━━\u001b[0m \u001b[32m34.2/34.2 MB\u001b[0m \u001b[31m20.1 MB/s\u001b[0m eta \u001b[36m0:00:00\u001b[0m00:01\u001b[0m00:01\u001b[0m\n",
      "\u001b[?25hRequirement already satisfied: numpy<1.26.0,>=1.18.5 in /Users/frederickcunningham/Library/Python/3.8/lib/python/site-packages (from scipy) (1.23.3)\n",
      "Installing collected packages: scipy\n",
      "Successfully installed scipy-1.9.3\n",
      "\n",
      "\u001b[1m[\u001b[0m\u001b[34;49mnotice\u001b[0m\u001b[1;39;49m]\u001b[0m\u001b[39;49m A new release of pip available: \u001b[0m\u001b[31;49m22.2.2\u001b[0m\u001b[39;49m -> \u001b[0m\u001b[32;49m22.3.1\u001b[0m\n",
      "\u001b[1m[\u001b[0m\u001b[34;49mnotice\u001b[0m\u001b[1;39;49m]\u001b[0m\u001b[39;49m To update, run: \u001b[0m\u001b[32;49m/Library/Developer/CommandLineTools/usr/bin/python3 -m pip install --upgrade pip\u001b[0m\n"
     ]
    }
   ],
   "source": [
    "!pip3 install scipy"
   ]
  },
  {
   "cell_type": "code",
   "execution_count": 24,
   "metadata": {},
   "outputs": [
    {
     "name": "stdout",
     "output_type": "stream",
     "text": [
      "(15, 4)\n"
     ]
    }
   ],
   "source": [
    "import numpy as np\n",
    "from scipy.integrate import solve_ivp\n",
    "import math\n",
    "\n",
    "# Define the vector-valued function representing the system of equations\n",
    "def pend_on_cart_dx(t, x, m, M, L, g, b, u):\n",
    "  x, v, th, om = x\n",
    "  S = math.sin(th)\n",
    "  C = math.cos(th)\n",
    "  dx = v\n",
    "  dv = (-m**2*L**2*g*C*S + m*L**2*(m*L*om**2*S - b*v) + m*L**2*u)/(m*L**2*(M+m*(1 - C**2)))\n",
    "  dth = om\n",
    "  dom = ((m + M)*m*g*L*S - m*L*C*(m*L*om**2*S - b*v) + m*L*C*u)/(m*L**2*(M + m*(1-C**2)))\n",
    "  return [dx, dv, dth, dom]\n",
    "\n",
    "# Solve the system of equations over the interval [0, 1]\n",
    "solution = solve_ivp(pend_on_cart_dx, t_span=(0,5), y0=[0, 0, math.pi/6, 0], method='RK45', args=(1, 1, 1, 1, 1, 1))\n",
    "\n",
    "# Print the solution at the points in time specified in the solution\n",
    "print(solution.y.T.shape)\n",
    "\n"
   ]
  },
  {
   "cell_type": "code",
   "execution_count": 14,
   "metadata": {},
   "outputs": [
    {
     "data": {
      "text/plain": [
       "4"
      ]
     },
     "execution_count": 14,
     "metadata": {},
     "output_type": "execute_result"
    }
   ],
   "source": [
    "(-2)**2"
   ]
  },
  {
   "cell_type": "code",
   "execution_count": null,
   "metadata": {},
   "outputs": [],
   "source": []
  }
 ],
 "metadata": {
  "interpreter": {
   "hash": "31f2aee4e71d21fbe5cf8b01ff0e069b9275f58929596ceb00d14d90e3e16cd6"
  },
  "kernelspec": {
   "display_name": "Python 3.8.9 64-bit",
   "language": "python",
   "name": "python3"
  },
  "language_info": {
   "codemirror_mode": {
    "name": "ipython",
    "version": 3
   },
   "file_extension": ".py",
   "mimetype": "text/x-python",
   "name": "python",
   "nbconvert_exporter": "python",
   "pygments_lexer": "ipython3",
   "version": "3.8.9"
  },
  "orig_nbformat": 4
 },
 "nbformat": 4,
 "nbformat_minor": 2
}
