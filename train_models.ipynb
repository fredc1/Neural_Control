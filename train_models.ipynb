{
 "cells": [
  {
   "cell_type": "code",
   "execution_count": 1,
   "metadata": {},
   "outputs": [],
   "source": [
    "from torch.utils.data import DataLoader\n",
    "from tqdm import tqdm\n",
    "import torch\n",
    "import copy\n",
    "import math\n",
    "import numpy as np\n",
    "import math\n",
    "from data_prep import SystemIdentDataset, ControllerDataset, SystemIdentDatasetNormed\n",
    "import pickle\n",
    "\n",
    "def evaluate(model, loss_function, val_loader):\n",
    "    c_error = 0.0\n",
    "    cos_sim = torch.nn.CosineSimilarity(dim=1)\n",
    "    running_loss = 0.0\n",
    "    batch_count = 0\n",
    "    for _, example in enumerate(tqdm(val_loader), 0):\n",
    "        inputs,label = example\n",
    "\n",
    "        with torch.no_grad():\n",
    "            outputs = model(inputs)\n",
    "        \n",
    "        loss = loss_function(outputs, label)\n",
    "        \n",
    "        c_error += torch.sum(cos_sim(outputs,label)).item()/val_dloader.batch_size\n",
    "        running_loss += loss.item()\n",
    "        batch_count += 1\n",
    "    \n",
    "    c_error /= batch_count\n",
    "    \n",
    "    return running_loss, c_error\n",
    "\n",
    "def train(model, num_epochs, loss_function, optimizer, train_loader, val_loader):\n",
    "    best_loss = []\n",
    "    best_cerror = []\n",
    "    val_loss, c_error = evaluate(model, loss_function, val_loader)\n",
    "    print(f\"Initial validation loss: {val_loss}, cosine error: {c_error}\")\n",
    "    for epoch in range(num_epochs):\n",
    "        print(f\"Epoch {epoch+1}:\")\n",
    "        for _, example in enumerate(tqdm(train_loader), 0):\n",
    "            inputs,label = example\n",
    "            \n",
    "            outputs = model(inputs)\n",
    "\n",
    "            loss = loss_function(outputs, label)\n",
    "\n",
    "            optimizer.zero_grad()\n",
    "\n",
    "            loss.backward()\n",
    "\n",
    "            optimizer.step()\n",
    "        val_loss, c_error = evaluate(model, loss_function, val_loader)\n",
    "        print(f\"validation loss: {val_loss}, cosine error: {c_error}\")\n",
    "\n",
    "        if epoch < 5:\n",
    "            best_loss.append((copy.deepcopy(model), val_loss, c_error))\n",
    "            best_cerror.append((copy.deepcopy(model), val_loss,c_error))\n",
    "        else:\n",
    "            for i, entry in enumerate(best_loss):\n",
    "                m,l,c = entry\n",
    "                if val_loss < l:\n",
    "                    best_loss[i] = (copy.deepcopy(model), val_loss, c_error)\n",
    "                    break\n",
    "            for i, entry in enumerate(best_cerror):\n",
    "                m,l,c = entry\n",
    "                if c_error > c:\n",
    "                    best_cerror[i] = (copy.deepcopy(model), val_loss, c_error)\n",
    "                    break\n",
    "    return best_loss + best_cerror\n"
   ]
  },
  {
   "cell_type": "code",
   "execution_count": 2,
   "metadata": {},
   "outputs": [],
   "source": [
    "train_dataset = SystemIdentDatasetNormed(num_examples=1000000)\n",
    "val_dataset = SystemIdentDatasetNormed(num_examples=100000)\n",
    "train_dloader = DataLoader(train_dataset, batch_size=256,shuffle=True)\n",
    "val_dloader = DataLoader(val_dataset, batch_size=256, shuffle=True)\n",
    "\n"
   ]
  },
  {
   "cell_type": "code",
   "execution_count": 3,
   "metadata": {},
   "outputs": [
    {
     "name": "stderr",
     "output_type": "stream",
     "text": [
      "100%|██████████| 391/391 [00:01<00:00, 208.04it/s]\n"
     ]
    },
    {
     "name": "stdout",
     "output_type": "stream",
     "text": [
      "Initial validation loss: -946.754009970265, cosine error: 0.00945845997812365\n",
      "Epoch 1:\n"
     ]
    },
    {
     "name": "stderr",
     "output_type": "stream",
     "text": [
      "100%|██████████| 3907/3907 [00:25<00:00, 156.03it/s]\n",
      "100%|██████████| 391/391 [00:02<00:00, 184.70it/s]\n"
     ]
    },
    {
     "name": "stdout",
     "output_type": "stream",
     "text": [
      "validation loss: -96698.08016414402, cosine error: 0.966053390386669\n",
      "Epoch 2:\n"
     ]
    },
    {
     "name": "stderr",
     "output_type": "stream",
     "text": [
      "100%|██████████| 3907/3907 [00:25<00:00, 155.33it/s]\n",
      "100%|██████████| 391/391 [00:02<00:00, 192.54it/s]\n"
     ]
    },
    {
     "name": "stdout",
     "output_type": "stream",
     "text": [
      "validation loss: -96090.62087548636, cosine error: 0.959984623516288\n",
      "Epoch 3:\n"
     ]
    },
    {
     "name": "stderr",
     "output_type": "stream",
     "text": [
      "100%|██████████| 3907/3907 [00:26<00:00, 146.06it/s]\n",
      "100%|██████████| 391/391 [00:01<00:00, 199.01it/s]\n"
     ]
    },
    {
     "name": "stdout",
     "output_type": "stream",
     "text": [
      "validation loss: -98243.74061657705, cosine error: 0.9814951708018008\n",
      "Epoch 4:\n"
     ]
    },
    {
     "name": "stderr",
     "output_type": "stream",
     "text": [
      "100%|██████████| 3907/3907 [00:25<00:00, 156.14it/s]\n",
      "100%|██████████| 391/391 [00:01<00:00, 204.42it/s]\n"
     ]
    },
    {
     "name": "stdout",
     "output_type": "stream",
     "text": [
      "validation loss: -97902.17448631114, cosine error: 0.9780827853891378\n",
      "Epoch 5:\n"
     ]
    },
    {
     "name": "stderr",
     "output_type": "stream",
     "text": [
      "100%|██████████| 3907/3907 [00:25<00:00, 154.31it/s]\n",
      "100%|██████████| 391/391 [00:01<00:00, 198.01it/s]\n"
     ]
    },
    {
     "name": "stdout",
     "output_type": "stream",
     "text": [
      "validation loss: -97907.72715864971, cosine error: 0.9781382588579934\n",
      "Epoch 6:\n"
     ]
    },
    {
     "name": "stderr",
     "output_type": "stream",
     "text": [
      "100%|██████████| 3907/3907 [00:25<00:00, 154.11it/s]\n",
      "100%|██████████| 391/391 [00:01<00:00, 204.20it/s]\n"
     ]
    },
    {
     "name": "stdout",
     "output_type": "stream",
     "text": [
      "validation loss: -98467.23127602843, cosine error: 0.9837279339436983\n",
      "Epoch 7:\n"
     ]
    },
    {
     "name": "stderr",
     "output_type": "stream",
     "text": [
      "100%|██████████| 3907/3907 [00:25<00:00, 154.66it/s]\n",
      "100%|██████████| 391/391 [00:02<00:00, 194.91it/s]\n"
     ]
    },
    {
     "name": "stdout",
     "output_type": "stream",
     "text": [
      "validation loss: -98477.64101322193, cosine error: 0.9838319314780004\n",
      "Epoch 8:\n"
     ]
    },
    {
     "name": "stderr",
     "output_type": "stream",
     "text": [
      "100%|██████████| 3907/3907 [00:25<00:00, 154.92it/s]\n",
      "100%|██████████| 391/391 [00:02<00:00, 194.70it/s]\n"
     ]
    },
    {
     "name": "stdout",
     "output_type": "stream",
     "text": [
      "validation loss: -99043.73479797032, cosine error: 0.9894874400372674\n",
      "Epoch 9:\n"
     ]
    },
    {
     "name": "stderr",
     "output_type": "stream",
     "text": [
      "100%|██████████| 3907/3907 [00:25<00:00, 154.83it/s]\n",
      "100%|██████████| 391/391 [00:01<00:00, 203.90it/s]\n"
     ]
    },
    {
     "name": "stdout",
     "output_type": "stream",
     "text": [
      "validation loss: -99208.08447709483, cosine error: 0.991129360584787\n",
      "Epoch 10:\n"
     ]
    },
    {
     "name": "stderr",
     "output_type": "stream",
     "text": [
      "100%|██████████| 3907/3907 [00:25<00:00, 154.58it/s]\n",
      "100%|██████████| 391/391 [00:01<00:00, 197.65it/s]\n"
     ]
    },
    {
     "name": "stdout",
     "output_type": "stream",
     "text": [
      "validation loss: -99165.92961373771, cosine error: 0.9907082162497773\n",
      "Epoch 11:\n"
     ]
    },
    {
     "name": "stderr",
     "output_type": "stream",
     "text": [
      "100%|██████████| 3907/3907 [00:25<00:00, 153.83it/s]\n",
      "100%|██████████| 391/391 [00:01<00:00, 204.12it/s]\n"
     ]
    },
    {
     "name": "stdout",
     "output_type": "stream",
     "text": [
      "validation loss: -98700.70440387349, cosine error: 0.9860604260297463\n",
      "Epoch 12:\n"
     ]
    },
    {
     "name": "stderr",
     "output_type": "stream",
     "text": [
      "100%|██████████| 3907/3907 [00:25<00:00, 154.82it/s]\n",
      "100%|██████████| 391/391 [00:01<00:00, 196.49it/s]\n"
     ]
    },
    {
     "name": "stdout",
     "output_type": "stream",
     "text": [
      "validation loss: -98760.79683630115, cosine error: 0.9866607740199523\n",
      "Epoch 13:\n"
     ]
    },
    {
     "name": "stderr",
     "output_type": "stream",
     "text": [
      "100%|██████████| 3907/3907 [00:25<00:00, 154.86it/s]\n",
      "100%|██████████| 391/391 [00:01<00:00, 204.28it/s]\n"
     ]
    },
    {
     "name": "stdout",
     "output_type": "stream",
     "text": [
      "validation loss: -98941.23593868376, cosine error: 0.9884634344897275\n",
      "Epoch 14:\n"
     ]
    },
    {
     "name": "stderr",
     "output_type": "stream",
     "text": [
      "100%|██████████| 3907/3907 [00:25<00:00, 154.82it/s]\n",
      "100%|██████████| 391/391 [00:02<00:00, 194.87it/s]\n"
     ]
    },
    {
     "name": "stdout",
     "output_type": "stream",
     "text": [
      "validation loss: -98395.13842768277, cosine error: 0.9830076968878154\n",
      "Epoch 15:\n"
     ]
    },
    {
     "name": "stderr",
     "output_type": "stream",
     "text": [
      "100%|██████████| 3907/3907 [00:25<00:00, 155.26it/s]\n",
      "100%|██████████| 391/391 [00:01<00:00, 196.26it/s]\n"
     ]
    },
    {
     "name": "stdout",
     "output_type": "stream",
     "text": [
      "validation loss: -99178.0149951576, cosine error: 0.9908289541555867\n",
      "Epoch 16:\n"
     ]
    },
    {
     "name": "stderr",
     "output_type": "stream",
     "text": [
      "100%|██████████| 3907/3907 [00:25<00:00, 154.94it/s]\n",
      "100%|██████████| 391/391 [00:01<00:00, 205.60it/s]\n"
     ]
    },
    {
     "name": "stdout",
     "output_type": "stream",
     "text": [
      "validation loss: -99588.793778839, cosine error: 0.9949328022981837\n",
      "Epoch 17:\n"
     ]
    },
    {
     "name": "stderr",
     "output_type": "stream",
     "text": [
      "100%|██████████| 3907/3907 [00:25<00:00, 155.30it/s]\n",
      "100%|██████████| 391/391 [00:01<00:00, 198.07it/s]\n"
     ]
    },
    {
     "name": "stdout",
     "output_type": "stream",
     "text": [
      "validation loss: -98745.75559887908, cosine error: 0.9865105059031238\n",
      "Epoch 18:\n"
     ]
    },
    {
     "name": "stderr",
     "output_type": "stream",
     "text": [
      "100%|██████████| 3907/3907 [00:25<00:00, 155.87it/s]\n",
      "100%|██████████| 391/391 [00:01<00:00, 206.32it/s]\n"
     ]
    },
    {
     "name": "stdout",
     "output_type": "stream",
     "text": [
      "validation loss: -98111.42514920284, cosine error: 0.9801732851382956\n",
      "Epoch 19:\n"
     ]
    },
    {
     "name": "stderr",
     "output_type": "stream",
     "text": [
      "100%|██████████| 3907/3907 [00:25<00:00, 154.98it/s]\n",
      "100%|██████████| 391/391 [00:01<00:00, 198.66it/s]\n"
     ]
    },
    {
     "name": "stdout",
     "output_type": "stream",
     "text": [
      "validation loss: -99005.1650634549, cosine error: 0.9891021126064469\n",
      "Epoch 20:\n"
     ]
    },
    {
     "name": "stderr",
     "output_type": "stream",
     "text": [
      "100%|██████████| 3907/3907 [00:25<00:00, 156.08it/s]\n",
      "100%|██████████| 391/391 [00:01<00:00, 203.32it/s]"
     ]
    },
    {
     "name": "stdout",
     "output_type": "stream",
     "text": [
      "validation loss: -98998.02799402179, cosine error: 0.9890308103622701\n",
      "Model 0: loss: -99588.793778839, cosine error: 0.9949328022981837\n",
      "Model 1: loss: -99178.0149951576, cosine error: 0.9908289541555867\n",
      "Model 2: loss: -99005.1650634549, cosine error: 0.9891021126064469\n",
      "Model 3: loss: -98998.02799402179, cosine error: 0.9890308103622701\n",
      "Model 4: loss: -98111.42514920284, cosine error: 0.9801732851382956\n",
      "Model 5: loss: -99588.793778839, cosine error: 0.9949328022981837\n",
      "Model 6: loss: -99178.0149951576, cosine error: 0.9908289541555867\n",
      "Model 7: loss: -99005.1650634549, cosine error: 0.9891021126064469\n",
      "Model 8: loss: -98998.02799402179, cosine error: 0.9890308103622701\n",
      "Model 9: loss: -98111.42514920284, cosine error: 0.9801732851382956\n"
     ]
    },
    {
     "name": "stderr",
     "output_type": "stream",
     "text": [
      "\n"
     ]
    }
   ],
   "source": [
    "\n",
    "\n",
    "# Define the model\n",
    "model = torch.nn.Sequential(\n",
    "    torch.nn.Linear(4, 32, dtype=torch.float64),\n",
    "    torch.nn.Tanh(),\n",
    "    torch.nn.Linear(32, 64, dtype=torch.float64),\n",
    "    torch.nn.Tanh(),\n",
    "    torch.nn.Linear(64, 64, dtype=torch.float64),\n",
    "    torch.nn.Tanh(),\n",
    "    torch.nn.Linear(64, 64, dtype=torch.float64),\n",
    "    torch.nn.Tanh(),\n",
    "    torch.nn.Linear(64, 32, dtype=torch.float64),\n",
    "    torch.nn.Tanh(),\n",
    "    torch.nn.Linear(32, 4, dtype=torch.float64),\n",
    ")\n",
    "\n",
    "# Define the loss function\n",
    "#loss_fn = torch.nn.MSELoss()\n",
    "csim = torch.nn.CosineSimilarity(dim=1)\n",
    "loss_fn = lambda x,y: torch.sum(-1*csim(x,y))\n",
    "# Define the optimizer\n",
    "optimizer = torch.optim.Adam(model.parameters())\n",
    "best_models = train(model=model, num_epochs=20, loss_function=loss_fn, optimizer=optimizer, train_loader=train_dloader, val_loader=val_dloader)\n",
    "for i, model in enumerate(best_models):\n",
    "    weights, loss, c_error = model\n",
    "    print(f\"Model {i}: loss: {loss}, cosine error: {c_error}\")\n"
   ]
  },
  {
   "cell_type": "code",
   "execution_count": 4,
   "metadata": {},
   "outputs": [],
   "source": [
    "with open('./emulator_random_inputs3.pkl', 'wb') as f:\n",
    "    pickle.dump(best_models[0][0], f)"
   ]
  },
  {
   "cell_type": "code",
   "execution_count": 36,
   "metadata": {},
   "outputs": [],
   "source": [
    "# Now learn to drive emulated plant from state Zo to Zd in K steps where K is a hyperparameter\n",
    "\n",
    "train_dataset = ControllerDataset(num_examples=1000000)\n",
    "val_dataset = ControllerDataset(num_examples=100000)\n",
    "train_dloader = DataLoader(train_dataset, batch_size=256,shuffle=True)\n",
    "val_dloader = DataLoader(val_dataset, batch_size=256, shuffle=True)\n",
    "\n",
    "class ControllerTrainedEnclosure(torch.nn.Module):\n",
    "    def __init__(self, emulator_network, K):\n",
    "        super(self.__class__, self).__init__()\n",
    "        emulator_network.requires_grad=False \n",
    "        self.system_emulator = emulator_network\n",
    "        self.K = K\n",
    "        self.network = torch.nn.Sequential(\n",
    "                torch.nn.Linear(4, 32, dtype=torch.float64),\n",
    "                torch.nn.Tanh(),\n",
    "                torch.nn.Linear(32, 64, dtype=torch.float64),\n",
    "                torch.nn.Tanh(),\n",
    "                torch.nn.Linear(64, 64, dtype=torch.float64),\n",
    "                torch.nn.Tanh(),\n",
    "                torch.nn.Linear(64, 32, dtype=torch.float64),\n",
    "                torch.nn.Tanh(),\n",
    "                torch.nn.Linear(32, 1, dtype=torch.float64),\n",
    "                )\n",
    "\n",
    "    def forward(self, x):\n",
    "        for _ in range(self.K):\n",
    "            xnew = torch.zeros_like(x)\n",
    "            u = self.network(x)\n",
    "            xnew[:,0] = u.squeeze()\n",
    "            xnew[:,1:] = x[:,1:]\n",
    "\n",
    "            dx = self.system_emulator(xnew)\n",
    "            x = x + dx\n",
    "            #torch.nn.utils.clip_grad_norm_(self.parameters(), max_norm=1)\n",
    "            \n",
    "        \n",
    "        return x\n",
    "\n"
   ]
  },
  {
   "cell_type": "code",
   "execution_count": 37,
   "metadata": {},
   "outputs": [
    {
     "name": "stderr",
     "output_type": "stream",
     "text": [
      "100%|██████████| 79/79 [00:03<00:00, 23.22it/s]\n"
     ]
    },
    {
     "name": "stdout",
     "output_type": "stream",
     "text": [
      "Initial validation loss: 149962.52260807224, cosine error: 0.0004733375169052871\n",
      "Epoch 1:\n"
     ]
    },
    {
     "name": "stderr",
     "output_type": "stream",
     "text": [
      "100%|██████████| 3907/3907 [06:51<00:00,  9.50it/s]\n",
      "100%|██████████| 79/79 [00:04<00:00, 18.15it/s]\n"
     ]
    },
    {
     "name": "stdout",
     "output_type": "stream",
     "text": [
      "validation loss: 359981.7840931482, cosine error: 0.02704468563412509\n",
      "Epoch 2:\n"
     ]
    },
    {
     "name": "stderr",
     "output_type": "stream",
     "text": [
      "100%|██████████| 3907/3907 [06:38<00:00,  9.80it/s]\n",
      "100%|██████████| 79/79 [00:04<00:00, 19.18it/s]\n"
     ]
    },
    {
     "name": "stdout",
     "output_type": "stream",
     "text": [
      "validation loss: 358830.5046627023, cosine error: 0.026850415248318663\n",
      "Epoch 3:\n"
     ]
    },
    {
     "name": "stderr",
     "output_type": "stream",
     "text": [
      "100%|██████████| 3907/3907 [06:19<00:00, 10.28it/s]\n",
      "100%|██████████| 79/79 [00:04<00:00, 19.17it/s]\n"
     ]
    },
    {
     "name": "stdout",
     "output_type": "stream",
     "text": [
      "validation loss: 358609.25255553244, cosine error: 0.02687181946608139\n",
      "Epoch 4:\n"
     ]
    },
    {
     "name": "stderr",
     "output_type": "stream",
     "text": [
      "100%|██████████| 3907/3907 [06:20<00:00, 10.26it/s]\n",
      "100%|██████████| 79/79 [00:04<00:00, 19.12it/s]\n"
     ]
    },
    {
     "name": "stdout",
     "output_type": "stream",
     "text": [
      "validation loss: 353410.2904779326, cosine error: 0.02665515366050358\n",
      "Epoch 5:\n"
     ]
    },
    {
     "name": "stderr",
     "output_type": "stream",
     "text": [
      "100%|██████████| 3907/3907 [06:21<00:00, 10.24it/s]\n",
      "100%|██████████| 79/79 [00:04<00:00, 18.97it/s]"
     ]
    },
    {
     "name": "stdout",
     "output_type": "stream",
     "text": [
      "validation loss: 337965.3851633391, cosine error: 0.026950246391290223\n",
      "Model 0: loss: 359981.7840931482, cosine error: 0.02704468563412509\n",
      "Model 1: loss: 358830.5046627023, cosine error: 0.026850415248318663\n",
      "Model 2: loss: 358609.25255553244, cosine error: 0.02687181946608139\n",
      "Model 3: loss: 353410.2904779326, cosine error: 0.02665515366050358\n",
      "Model 4: loss: 337965.3851633391, cosine error: 0.026950246391290223\n",
      "Model 5: loss: 359981.7840931482, cosine error: 0.02704468563412509\n",
      "Model 6: loss: 358830.5046627023, cosine error: 0.026850415248318663\n",
      "Model 7: loss: 358609.25255553244, cosine error: 0.02687181946608139\n",
      "Model 8: loss: 353410.2904779326, cosine error: 0.02665515366050358\n",
      "Model 9: loss: 337965.3851633391, cosine error: 0.026950246391290223\n"
     ]
    },
    {
     "name": "stderr",
     "output_type": "stream",
     "text": [
      "\n"
     ]
    }
   ],
   "source": [
    "\n",
    "with open('./emulator_random_inputs2.pkl', 'rb') as f:\n",
    "    emulator = pickle.load(f)\n",
    "model = ControllerTrainedEnclosure(emulator, K=30)\n",
    "\n",
    "# Define the loss function\n",
    "loss_fn = torch.nn.MSELoss()\n",
    "\n",
    "# Define the optimizer\n",
    "optimizer = torch.optim.Adam(model.parameters())\n",
    "best_models = train(model=model, num_epochs=5, loss_function=loss_fn, optimizer=optimizer, train_loader=train_dloader, val_loader=val_dloader)\n",
    "for i, model in enumerate(best_models):\n",
    "    weights, loss, c_error = model\n",
    "    print(f\"Model {i}: loss: {loss}, cosine error: {c_error}\")"
   ]
  },
  {
   "cell_type": "code",
   "execution_count": null,
   "metadata": {},
   "outputs": [],
   "source": [
    "\n"
   ]
  },
  {
   "cell_type": "code",
   "execution_count": null,
   "metadata": {},
   "outputs": [],
   "source": [
    "best_models[8][0].network"
   ]
  },
  {
   "cell_type": "code",
   "execution_count": null,
   "metadata": {},
   "outputs": [],
   "source": [
    "\n",
    "\n",
    "a = torch.zeros((1,4),dtype=torch.float64)\n",
    "#a[0][2] = np.pi + np.pi/20\n",
    "em = best_models[8][0].system_emulator\n",
    "nn = best_models[8][0].network\n",
    "\n",
    "em(a)\n"
   ]
  },
  {
   "cell_type": "code",
   "execution_count": null,
   "metadata": {},
   "outputs": [],
   "source": [
    "model"
   ]
  },
  {
   "cell_type": "code",
   "execution_count": null,
   "metadata": {},
   "outputs": [],
   "source": [
    "\n",
    "train_dataset = SystemIdentDatasetEuler(num_examples=2000000)\n",
    "val_dataset = SystemIdentDatasetEuler(num_examples=100000)\n",
    "train_dloader = DataLoader(train_dataset, batch_size=256, shuffle=True)\n",
    "val_dloader = DataLoader(val_dataset, batch_size=256, shuffle=True)\n",
    "\n",
    "model = torch.nn.Sequential(\n",
    "    torch.nn.Linear(4, 32, dtype=torch.float64),\n",
    "    torch.nn.Tanh(),\n",
    "    torch.nn.Linear(32, 64, dtype=torch.float64),\n",
    "    torch.nn.Tanh(),\n",
    "    torch.nn.Linear(64, 64, dtype=torch.float64),\n",
    "    torch.nn.Tanh(),\n",
    "    torch.nn.Linear(64, 64, dtype=torch.float64),\n",
    "    torch.nn.Tanh(),\n",
    "    torch.nn.Linear(64, 32, dtype=torch.float64),\n",
    "    torch.nn.Tanh(),\n",
    "    torch.nn.Linear(32, 4, dtype=torch.float64),\n",
    ")\n",
    "\n",
    "# Define the loss function\n",
    "loss_fn = torch.nn.MSELoss()\n",
    "\n",
    "# Define the optimizer\n",
    "optimizer = torch.optim.Adam(model.parameters())\n",
    "best_models = train(model=model, num_epochs=25, loss_function=loss_fn, optimizer=optimizer, train_loader=train_dloader, val_loader=val_dloader)\n",
    "for i, model in enumerate(best_models):\n",
    "    weights, loss, c_error = model\n",
    "    print(f\"Model {i}: loss: {loss}, cosine error: {c_error}\")"
   ]
  },
  {
   "cell_type": "code",
   "execution_count": null,
   "metadata": {},
   "outputs": [],
   "source": []
  },
  {
   "cell_type": "code",
   "execution_count": null,
   "metadata": {},
   "outputs": [],
   "source": []
  }
 ],
 "metadata": {
  "interpreter": {
   "hash": "31f2aee4e71d21fbe5cf8b01ff0e069b9275f58929596ceb00d14d90e3e16cd6"
  },
  "kernelspec": {
   "display_name": "Python 3.8.9 64-bit",
   "language": "python",
   "name": "python3"
  },
  "language_info": {
   "codemirror_mode": {
    "name": "ipython",
    "version": 3
   },
   "file_extension": ".py",
   "mimetype": "text/x-python",
   "name": "python",
   "nbconvert_exporter": "python",
   "pygments_lexer": "ipython3",
   "version": "3.8.9"
  },
  "orig_nbformat": 4
 },
 "nbformat": 4,
 "nbformat_minor": 2
}
