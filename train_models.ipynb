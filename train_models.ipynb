{
 "cells": [
  {
   "cell_type": "code",
   "execution_count": 1,
   "metadata": {},
   "outputs": [],
   "source": [
    "from torch.utils.data import DataLoader\n",
    "from tqdm import tqdm\n",
    "import torch\n",
    "import copy\n",
    "import math\n",
    "import numpy as np\n",
    "import math\n",
    "from data_prep import SystemIdentDataset, ControllerDataset, SystemIdentDatasetNormed\n",
    "import pickle\n",
    "\n",
    "def evaluate(model, loss_function, val_loader):\n",
    "    c_error = 0.0\n",
    "    cos_sim = torch.nn.CosineSimilarity(dim=1)\n",
    "    running_loss = 0.0\n",
    "    batch_count = 0\n",
    "    for _, example in enumerate(tqdm(val_loader), 0):\n",
    "        inputs,label = example\n",
    "\n",
    "        with torch.no_grad():\n",
    "            outputs = model(inputs)\n",
    "        \n",
    "        loss = loss_function(outputs, label)\n",
    "        \n",
    "        c_error += torch.sum(cos_sim(outputs,label)).item()/val_dloader.batch_size\n",
    "        running_loss += loss.item()\n",
    "        batch_count += 1\n",
    "    \n",
    "    c_error /= batch_count\n",
    "    \n",
    "    return running_loss, c_error\n",
    "\n",
    "def train(model, num_epochs, loss_function, optimizer, train_loader, val_loader):\n",
    "    best_loss = []\n",
    "    best_cerror = []\n",
    "    val_loss, c_error = evaluate(model, loss_function, val_loader)\n",
    "    print(f\"Initial validation loss: {val_loss}, cosine error: {c_error}\")\n",
    "    for epoch in range(num_epochs):\n",
    "        print(f\"Epoch {epoch+1}:\")\n",
    "        for _, example in enumerate(tqdm(train_loader), 0):\n",
    "            inputs,label = example\n",
    "            \n",
    "            outputs = model(inputs)\n",
    "\n",
    "            loss = loss_function(outputs, label)\n",
    "\n",
    "            optimizer.zero_grad()\n",
    "\n",
    "            loss.backward()\n",
    "\n",
    "            optimizer.step()\n",
    "        val_loss, c_error = evaluate(model, loss_function, val_loader)\n",
    "        print(f\"validation loss: {val_loss}, cosine error: {c_error}\")\n",
    "\n",
    "        if epoch < 5:\n",
    "            best_loss.append((copy.deepcopy(model), val_loss, c_error))\n",
    "            best_cerror.append((copy.deepcopy(model), val_loss,c_error))\n",
    "        else:\n",
    "            for i, entry in enumerate(best_loss):\n",
    "                m,l,c = entry\n",
    "                if val_loss < l:\n",
    "                    best_loss[i] = (copy.deepcopy(model), val_loss, c_error)\n",
    "                    break\n",
    "            for i, entry in enumerate(best_cerror):\n",
    "                m,l,c = entry\n",
    "                if c_error > c:\n",
    "                    best_cerror[i] = (copy.deepcopy(model), val_loss, c_error)\n",
    "                    break\n",
    "    return best_loss + best_cerror\n"
   ]
  },
  {
   "cell_type": "code",
   "execution_count": null,
   "metadata": {},
   "outputs": [],
   "source": [
    "train_dataset = SystemIdentDatasetNormed(num_examples=1000000)\n",
    "val_dataset = SystemIdentDatasetNormed(num_examples=100000)\n",
    "train_dloader = DataLoader(train_dataset, batch_size=256,shuffle=True)\n",
    "val_dloader = DataLoader(val_dataset, batch_size=256, shuffle=True)\n",
    "\n"
   ]
  },
  {
   "cell_type": "code",
   "execution_count": null,
   "metadata": {},
   "outputs": [],
   "source": [
    "\n",
    "\n",
    "# Define the model\n",
    "model = torch.nn.Sequential(\n",
    "    torch.nn.Linear(4, 32, dtype=torch.float64),\n",
    "    torch.nn.Tanh(),\n",
    "    torch.nn.Linear(32, 64, dtype=torch.float64),\n",
    "    torch.nn.Tanh(),\n",
    "    torch.nn.Linear(64, 64, dtype=torch.float64),\n",
    "    torch.nn.Tanh(),\n",
    "    torch.nn.Linear(64, 64, dtype=torch.float64),\n",
    "    torch.nn.Tanh(),\n",
    "    torch.nn.Linear(64, 32, dtype=torch.float64),\n",
    "    torch.nn.Tanh(),\n",
    "    torch.nn.Linear(32, 4, dtype=torch.float64),\n",
    ")\n",
    "\n",
    "# Define the loss function\n",
    "#loss_fn = torch.nn.MSELoss()\n",
    "csim = torch.nn.CosineSimilarity(dim=1)\n",
    "loss_fn = lambda x,y: torch.sum(-1*csim(x,y))\n",
    "# Define the optimizer\n",
    "optimizer = torch.optim.Adam(model.parameters())\n",
    "best_models = train(model=model, num_epochs=20, loss_function=loss_fn, optimizer=optimizer, train_loader=train_dloader, val_loader=val_dloader)\n",
    "for i, model in enumerate(best_models):\n",
    "    weights, loss, c_error = model\n",
    "    print(f\"Model {i}: loss: {loss}, cosine error: {c_error}\")\n"
   ]
  },
  {
   "cell_type": "code",
   "execution_count": null,
   "metadata": {},
   "outputs": [],
   "source": [
    "with open('./emulator_random_inputs3.pkl', 'wb') as f:\n",
    "    pickle.dump(best_models[0][0], f)"
   ]
  },
  {
   "cell_type": "code",
   "execution_count": 4,
   "metadata": {},
   "outputs": [],
   "source": [
    "# Now learn to drive emulated plant from state Zo to Zd in K steps where K is a hyperparameter\n",
    "\n",
    "train_dataset = ControllerDataset(num_examples=1000000)\n",
    "val_dataset = ControllerDataset(num_examples=100000)\n",
    "train_dloader = DataLoader(train_dataset, batch_size=256,shuffle=True)\n",
    "val_dloader = DataLoader(val_dataset, batch_size=256, shuffle=True)\n",
    "\n",
    "class ControllerTrainedEnclosure(torch.nn.Module):\n",
    "    def __init__(self, emulator_network, K):\n",
    "        super(self.__class__, self).__init__()\n",
    "        emulator_network.requires_grad=False \n",
    "        self.system_emulator = emulator_network\n",
    "        self.K = K\n",
    "        self.network = torch.nn.Sequential(\n",
    "                torch.nn.Linear(4, 32, dtype=torch.float64),\n",
    "                torch.nn.Tanh(),\n",
    "                torch.nn.Linear(32, 64, dtype=torch.float64),\n",
    "                torch.nn.Tanh(),\n",
    "                torch.nn.Linear(64, 64, dtype=torch.float64),\n",
    "                torch.nn.Tanh(),\n",
    "                torch.nn.Linear(64, 32, dtype=torch.float64),\n",
    "                torch.nn.Tanh(),\n",
    "                torch.nn.Linear(32, 1, dtype=torch.float64),\n",
    "                )\n",
    "\n",
    "    def forward(self, x):\n",
    "        for _ in range(self.K):\n",
    "            xnew = torch.zeros_like(x)\n",
    "            u = self.network(x)\n",
    "            xnew[:,0] = u.squeeze()\n",
    "            xnew[:,1:] = x[:,1:]\n",
    "\n",
    "            dx = self.system_emulator(xnew)\n",
    "            x = x + dx\n",
    "            #torch.nn.utils.clip_grad_norm_(self.parameters(), max_norm=1)\n",
    "        \n",
    "        return x\n",
    "\n"
   ]
  },
  {
   "cell_type": "code",
   "execution_count": 5,
   "metadata": {},
   "outputs": [
    {
     "name": "stderr",
     "output_type": "stream",
     "text": [
      "100%|██████████| 391/391 [00:05<00:00, 70.15it/s]\n"
     ]
    },
    {
     "name": "stdout",
     "output_type": "stream",
     "text": [
      "Initial validation loss: 2543.8819104938343, cosine error: -0.025414421260528237\n",
      "Epoch 1:\n"
     ]
    },
    {
     "name": "stderr",
     "output_type": "stream",
     "text": [
      "100%|██████████| 3907/3907 [01:59<00:00, 32.67it/s]\n",
      "100%|██████████| 391/391 [00:05<00:00, 70.51it/s]\n"
     ]
    },
    {
     "name": "stdout",
     "output_type": "stream",
     "text": [
      "validation loss: -97012.41474860419, cosine error: 0.969193721513389\n",
      "Epoch 2:\n"
     ]
    },
    {
     "name": "stderr",
     "output_type": "stream",
     "text": [
      "100%|██████████| 3907/3907 [01:58<00:00, 33.00it/s]\n",
      "100%|██████████| 391/391 [00:05<00:00, 70.94it/s]\n"
     ]
    },
    {
     "name": "stdout",
     "output_type": "stream",
     "text": [
      "validation loss: -99821.27241184482, cosine error: 0.9972553589738333\n",
      "Epoch 3:\n"
     ]
    },
    {
     "name": "stderr",
     "output_type": "stream",
     "text": [
      "100%|██████████| 3907/3907 [01:59<00:00, 32.62it/s]\n",
      "100%|██████████| 391/391 [00:05<00:00, 70.16it/s]\n"
     ]
    },
    {
     "name": "stdout",
     "output_type": "stream",
     "text": [
      "validation loss: -99988.0483277563, cosine error: 0.9989215186196881\n",
      "Epoch 4:\n"
     ]
    },
    {
     "name": "stderr",
     "output_type": "stream",
     "text": [
      "100%|██████████| 3907/3907 [01:59<00:00, 32.75it/s]\n",
      "100%|██████████| 391/391 [00:05<00:00, 70.85it/s]\n"
     ]
    },
    {
     "name": "stdout",
     "output_type": "stream",
     "text": [
      "validation loss: -99999.11622243717, cosine error: 0.9990320914166118\n",
      "Epoch 5:\n"
     ]
    },
    {
     "name": "stderr",
     "output_type": "stream",
     "text": [
      "100%|██████████| 3907/3907 [01:58<00:00, 32.99it/s]\n",
      "100%|██████████| 391/391 [00:05<00:00, 71.62it/s]"
     ]
    },
    {
     "name": "stdout",
     "output_type": "stream",
     "text": [
      "validation loss: -99999.98034742105, cosine error: 0.9990407243788069\n",
      "Model 0: loss: -97012.41474860419, cosine error: 0.969193721513389\n",
      "Model 1: loss: -99821.27241184482, cosine error: 0.9972553589738333\n",
      "Model 2: loss: -99988.0483277563, cosine error: 0.9989215186196881\n",
      "Model 3: loss: -99999.11622243717, cosine error: 0.9990320914166118\n",
      "Model 4: loss: -99999.98034742105, cosine error: 0.9990407243788069\n",
      "Model 5: loss: -97012.41474860419, cosine error: 0.969193721513389\n",
      "Model 6: loss: -99821.27241184482, cosine error: 0.9972553589738333\n",
      "Model 7: loss: -99988.0483277563, cosine error: 0.9989215186196881\n",
      "Model 8: loss: -99999.11622243717, cosine error: 0.9990320914166118\n",
      "Model 9: loss: -99999.98034742105, cosine error: 0.9990407243788069\n"
     ]
    },
    {
     "name": "stderr",
     "output_type": "stream",
     "text": [
      "\n"
     ]
    }
   ],
   "source": [
    "\n",
    "with open('./emulator_random_inputs3.pkl', 'rb') as f:\n",
    "    emulator = pickle.load(f)\n",
    "model = ControllerTrainedEnclosure(emulator, K=10)\n",
    "\n",
    "# Define the loss function\n",
    "#loss_fn = torch.nn.MSELoss()\n",
    "csim = torch.nn.CosineSimilarity(dim=1)\n",
    "loss_fn = lambda x,y: torch.sum(-1*csim(x,y))\n",
    "# Define the optimizer\n",
    "optimizer = torch.optim.Adam(model.parameters())\n",
    "best_models = train(model=model, num_epochs=5, loss_function=loss_fn, optimizer=optimizer, train_loader=train_dloader, val_loader=val_dloader)\n",
    "for i, model in enumerate(best_models):\n",
    "    weights, loss, c_error = model\n",
    "    print(f\"Model {i}: loss: {loss}, cosine error: {c_error}\")"
   ]
  },
  {
   "cell_type": "code",
   "execution_count": 7,
   "metadata": {},
   "outputs": [],
   "source": [
    "with open('./controller_model2.pkl', 'wb') as f:\n",
    "    pickle.dump(best_models[4][0].network, f)\n"
   ]
  },
  {
   "cell_type": "code",
   "execution_count": 6,
   "metadata": {},
   "outputs": [
    {
     "data": {
      "text/plain": [
       "Sequential(\n",
       "  (0): Linear(in_features=4, out_features=32, bias=True)\n",
       "  (1): Tanh()\n",
       "  (2): Linear(in_features=32, out_features=64, bias=True)\n",
       "  (3): Tanh()\n",
       "  (4): Linear(in_features=64, out_features=64, bias=True)\n",
       "  (5): Tanh()\n",
       "  (6): Linear(in_features=64, out_features=32, bias=True)\n",
       "  (7): Tanh()\n",
       "  (8): Linear(in_features=32, out_features=1, bias=True)\n",
       ")"
      ]
     },
     "execution_count": 6,
     "metadata": {},
     "output_type": "execute_result"
    }
   ],
   "source": []
  },
  {
   "cell_type": "code",
   "execution_count": null,
   "metadata": {},
   "outputs": [],
   "source": [
    "\n",
    "\n",
    "a = torch.zeros((1,4),dtype=torch.float64)\n",
    "#a[0][2] = np.pi + np.pi/20\n",
    "em = best_models[8][0].system_emulator\n",
    "nn = best_models[8][0].network\n",
    "\n",
    "em(a)\n"
   ]
  },
  {
   "cell_type": "code",
   "execution_count": null,
   "metadata": {},
   "outputs": [],
   "source": [
    "model"
   ]
  },
  {
   "cell_type": "code",
   "execution_count": null,
   "metadata": {},
   "outputs": [],
   "source": [
    "\n",
    "train_dataset = SystemIdentDatasetEuler(num_examples=2000000)\n",
    "val_dataset = SystemIdentDatasetEuler(num_examples=100000)\n",
    "train_dloader = DataLoader(train_dataset, batch_size=256, shuffle=True)\n",
    "val_dloader = DataLoader(val_dataset, batch_size=256, shuffle=True)\n",
    "\n",
    "model = torch.nn.Sequential(\n",
    "    torch.nn.Linear(4, 32, dtype=torch.float64),\n",
    "    torch.nn.Tanh(),\n",
    "    torch.nn.Linear(32, 64, dtype=torch.float64),\n",
    "    torch.nn.Tanh(),\n",
    "    torch.nn.Linear(64, 64, dtype=torch.float64),\n",
    "    torch.nn.Tanh(),\n",
    "    torch.nn.Linear(64, 64, dtype=torch.float64),\n",
    "    torch.nn.Tanh(),\n",
    "    torch.nn.Linear(64, 32, dtype=torch.float64),\n",
    "    torch.nn.Tanh(),\n",
    "    torch.nn.Linear(32, 4, dtype=torch.float64),\n",
    ")\n",
    "\n",
    "# Define the loss function\n",
    "loss_fn = torch.nn.MSELoss()\n",
    "\n",
    "# Define the optimizer\n",
    "optimizer = torch.optim.Adam(model.parameters())\n",
    "best_models = train(model=model, num_epochs=25, loss_function=loss_fn, optimizer=optimizer, train_loader=train_dloader, val_loader=val_dloader)\n",
    "for i, model in enumerate(best_models):\n",
    "    weights, loss, c_error = model\n",
    "    print(f\"Model {i}: loss: {loss}, cosine error: {c_error}\")"
   ]
  },
  {
   "cell_type": "code",
   "execution_count": null,
   "metadata": {},
   "outputs": [],
   "source": []
  },
  {
   "cell_type": "code",
   "execution_count": null,
   "metadata": {},
   "outputs": [],
   "source": []
  }
 ],
 "metadata": {
  "interpreter": {
   "hash": "31f2aee4e71d21fbe5cf8b01ff0e069b9275f58929596ceb00d14d90e3e16cd6"
  },
  "kernelspec": {
   "display_name": "Python 3.8.9 64-bit",
   "language": "python",
   "name": "python3"
  },
  "language_info": {
   "codemirror_mode": {
    "name": "ipython",
    "version": 3
   },
   "file_extension": ".py",
   "mimetype": "text/x-python",
   "name": "python",
   "nbconvert_exporter": "python",
   "pygments_lexer": "ipython3",
   "version": "3.8.9"
  },
  "orig_nbformat": 4
 },
 "nbformat": 4,
 "nbformat_minor": 2
}
