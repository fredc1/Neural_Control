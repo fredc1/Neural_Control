{
 "cells": [
  {
   "cell_type": "code",
   "execution_count": 11,
   "metadata": {},
   "outputs": [],
   "source": [
    "from data_prep import SystemIdentDataset\n",
    "from torch.utils.data import DataLoader\n",
    "from tqdm import tqdm\n",
    "import torch\n",
    "\n",
    "train_dataset = SystemIdentDataset(train=True)\n",
    "val_dataset = SystemIdentDataset(train=False)\n",
    "train_dloader = DataLoader(train_dataset, batch_size=32,shuffle=True)\n",
    "val_dloader = DataLoader(val_dataset, batch_size=32, shuffle=True)\n",
    "def evaluate(model, loss_function, val_loader):\n",
    "    running_loss = 0.0\n",
    "    p_error = 0.0\n",
    "    batch_count = 0\n",
    "    for _, example in enumerate(tqdm(val_loader), 0):\n",
    "        inputs,label = example\n",
    "\n",
    "        with torch.no_grad():\n",
    "            outputs = model(inputs)\n",
    "        \n",
    "        loss = loss_fn(outputs, label)\n",
    "        p_error += (torch.sum(torch.abs(outputs-label)/((label+outputs)/2))/(4*val_dloader.batch_size)).item()\n",
    "        running_loss += loss.item()\n",
    "        batch_count += 1\n",
    "    p_error /= batch_count\n",
    "    p_error *= 100\n",
    "    return running_loss, p_error\n",
    "\n",
    "def train(model, num_epochs, loss_function, optimizer, train_loader, val_loader):\n",
    "    val_loss, p_error= evaluate(model, loss_function, val_loader)\n",
    "    print(f\"Initial validation loss: {val_loss} and percent error: {p_error}\")\n",
    "    for epoch in range(num_epochs):\n",
    "        print(f\"Epoch {epoch+1}:\")\n",
    "        for _, example in enumerate(tqdm(train_loader), 0):\n",
    "            inputs,label = example\n",
    "            \n",
    "            outputs = model(inputs)\n",
    "\n",
    "            loss = loss_fn(outputs, label)\n",
    "\n",
    "            optimizer.zero_grad()\n",
    "\n",
    "            loss.backward()\n",
    "\n",
    "            optimizer.step()\n",
    "        val_loss, p_error = evaluate(model, loss_function, val_loader)\n",
    "        print(f\"validation loss: {val_loss}, percent error: {p_error}\")\n",
    "\n",
    "def transform_state(s):\n",
    "    max_v = torch.sqrt()\n",
    "\n"
   ]
  },
  {
   "cell_type": "code",
   "execution_count": 12,
   "metadata": {},
   "outputs": [
    {
     "name": "stderr",
     "output_type": "stream",
     "text": [
      "100%|██████████| 21875/21875 [00:13<00:00, 1584.52it/s]\n"
     ]
    },
    {
     "name": "stdout",
     "output_type": "stream",
     "text": [
      "Initial validation loss: 3264.289464830364 and percent error: 2.849474678099448\n",
      "Epoch 1:\n"
     ]
    },
    {
     "name": "stderr",
     "output_type": "stream",
     "text": [
      " 17%|█▋        | 14489/87500 [00:19<01:38, 741.33it/s]\n"
     ]
    },
    {
     "ename": "KeyboardInterrupt",
     "evalue": "",
     "output_type": "error",
     "traceback": [
      "\u001b[0;31m---------------------------------------------------------------------------\u001b[0m",
      "\u001b[0;31mKeyboardInterrupt\u001b[0m                         Traceback (most recent call last)",
      "Cell \u001b[0;32mIn [12], line 19\u001b[0m\n\u001b[1;32m     17\u001b[0m \u001b[38;5;66;03m# Define the optimizer\u001b[39;00m\n\u001b[1;32m     18\u001b[0m optimizer \u001b[38;5;241m=\u001b[39m torch\u001b[38;5;241m.\u001b[39moptim\u001b[38;5;241m.\u001b[39mAdam(model\u001b[38;5;241m.\u001b[39mparameters())\n\u001b[0;32m---> 19\u001b[0m train(model\u001b[38;5;241m=\u001b[39mmodel, num_epochs\u001b[38;5;241m=\u001b[39m\u001b[38;5;241m20\u001b[39m, loss_function\u001b[38;5;241m=\u001b[39mloss_fn, optimizer\u001b[38;5;241m=\u001b[39moptimizer, train_loader\u001b[38;5;241m=\u001b[39mtrain_dloader, val_loader\u001b[38;5;241m=\u001b[39mval_dloader)\n",
      "Cell \u001b[0;32mIn [11], line 32\u001b[0m, in \u001b[0;36mtrain\u001b[0;34m(model, num_epochs, loss_function, optimizer, train_loader, val_loader)\u001b[0m\n\u001b[1;32m     30\u001b[0m \u001b[38;5;28;01mfor\u001b[39;00m epoch \u001b[38;5;129;01min\u001b[39;00m \u001b[38;5;28mrange\u001b[39m(num_epochs):\n\u001b[1;32m     31\u001b[0m     \u001b[38;5;28mprint\u001b[39m(\u001b[38;5;124mf\u001b[39m\u001b[38;5;124m\"\u001b[39m\u001b[38;5;124mEpoch \u001b[39m\u001b[38;5;132;01m{\u001b[39;00mepoch\u001b[38;5;241m+\u001b[39m\u001b[38;5;241m1\u001b[39m\u001b[38;5;132;01m}\u001b[39;00m\u001b[38;5;124m:\u001b[39m\u001b[38;5;124m\"\u001b[39m)\n\u001b[0;32m---> 32\u001b[0m     \u001b[38;5;28;01mfor\u001b[39;00m _, example \u001b[38;5;129;01min\u001b[39;00m \u001b[38;5;28menumerate\u001b[39m(tqdm(train_loader), \u001b[38;5;241m0\u001b[39m):\n\u001b[1;32m     33\u001b[0m         inputs,label \u001b[38;5;241m=\u001b[39m example\n\u001b[1;32m     35\u001b[0m         outputs \u001b[38;5;241m=\u001b[39m model(inputs)\n",
      "File \u001b[0;32m~/Library/Python/3.8/lib/python/site-packages/tqdm/std.py:1195\u001b[0m, in \u001b[0;36mtqdm.__iter__\u001b[0;34m(self)\u001b[0m\n\u001b[1;32m   <a href='file:///Users/frederickcunningham/Library/Python/3.8/lib/python/site-packages/tqdm/std.py?line=1191'>1192</a>\u001b[0m time \u001b[39m=\u001b[39m \u001b[39mself\u001b[39m\u001b[39m.\u001b[39m_time\n\u001b[1;32m   <a href='file:///Users/frederickcunningham/Library/Python/3.8/lib/python/site-packages/tqdm/std.py?line=1193'>1194</a>\u001b[0m \u001b[39mtry\u001b[39;00m:\n\u001b[0;32m-> <a href='file:///Users/frederickcunningham/Library/Python/3.8/lib/python/site-packages/tqdm/std.py?line=1194'>1195</a>\u001b[0m     \u001b[39mfor\u001b[39;00m obj \u001b[39min\u001b[39;00m iterable:\n\u001b[1;32m   <a href='file:///Users/frederickcunningham/Library/Python/3.8/lib/python/site-packages/tqdm/std.py?line=1195'>1196</a>\u001b[0m         \u001b[39myield\u001b[39;00m obj\n\u001b[1;32m   <a href='file:///Users/frederickcunningham/Library/Python/3.8/lib/python/site-packages/tqdm/std.py?line=1196'>1197</a>\u001b[0m         \u001b[39m# Update and possibly print the progressbar.\u001b[39;00m\n\u001b[1;32m   <a href='file:///Users/frederickcunningham/Library/Python/3.8/lib/python/site-packages/tqdm/std.py?line=1197'>1198</a>\u001b[0m         \u001b[39m# Note: does not call self.update(1) for speed optimisation.\u001b[39;00m\n",
      "File \u001b[0;32m~/Library/Python/3.8/lib/python/site-packages/torch/utils/data/dataloader.py:628\u001b[0m, in \u001b[0;36m_BaseDataLoaderIter.__next__\u001b[0;34m(self)\u001b[0m\n\u001b[1;32m    <a href='file:///Users/frederickcunningham/Library/Python/3.8/lib/python/site-packages/torch/utils/data/dataloader.py?line=624'>625</a>\u001b[0m \u001b[39mif\u001b[39;00m \u001b[39mself\u001b[39m\u001b[39m.\u001b[39m_sampler_iter \u001b[39mis\u001b[39;00m \u001b[39mNone\u001b[39;00m:\n\u001b[1;32m    <a href='file:///Users/frederickcunningham/Library/Python/3.8/lib/python/site-packages/torch/utils/data/dataloader.py?line=625'>626</a>\u001b[0m     \u001b[39m# TODO(https://github.com/pytorch/pytorch/issues/76750)\u001b[39;00m\n\u001b[1;32m    <a href='file:///Users/frederickcunningham/Library/Python/3.8/lib/python/site-packages/torch/utils/data/dataloader.py?line=626'>627</a>\u001b[0m     \u001b[39mself\u001b[39m\u001b[39m.\u001b[39m_reset()  \u001b[39m# type: ignore[call-arg]\u001b[39;00m\n\u001b[0;32m--> <a href='file:///Users/frederickcunningham/Library/Python/3.8/lib/python/site-packages/torch/utils/data/dataloader.py?line=627'>628</a>\u001b[0m data \u001b[39m=\u001b[39m \u001b[39mself\u001b[39;49m\u001b[39m.\u001b[39;49m_next_data()\n\u001b[1;32m    <a href='file:///Users/frederickcunningham/Library/Python/3.8/lib/python/site-packages/torch/utils/data/dataloader.py?line=628'>629</a>\u001b[0m \u001b[39mself\u001b[39m\u001b[39m.\u001b[39m_num_yielded \u001b[39m+\u001b[39m\u001b[39m=\u001b[39m \u001b[39m1\u001b[39m\n\u001b[1;32m    <a href='file:///Users/frederickcunningham/Library/Python/3.8/lib/python/site-packages/torch/utils/data/dataloader.py?line=629'>630</a>\u001b[0m \u001b[39mif\u001b[39;00m \u001b[39mself\u001b[39m\u001b[39m.\u001b[39m_dataset_kind \u001b[39m==\u001b[39m _DatasetKind\u001b[39m.\u001b[39mIterable \u001b[39mand\u001b[39;00m \\\n\u001b[1;32m    <a href='file:///Users/frederickcunningham/Library/Python/3.8/lib/python/site-packages/torch/utils/data/dataloader.py?line=630'>631</a>\u001b[0m         \u001b[39mself\u001b[39m\u001b[39m.\u001b[39m_IterableDataset_len_called \u001b[39mis\u001b[39;00m \u001b[39mnot\u001b[39;00m \u001b[39mNone\u001b[39;00m \u001b[39mand\u001b[39;00m \\\n\u001b[1;32m    <a href='file:///Users/frederickcunningham/Library/Python/3.8/lib/python/site-packages/torch/utils/data/dataloader.py?line=631'>632</a>\u001b[0m         \u001b[39mself\u001b[39m\u001b[39m.\u001b[39m_num_yielded \u001b[39m>\u001b[39m \u001b[39mself\u001b[39m\u001b[39m.\u001b[39m_IterableDataset_len_called:\n",
      "File \u001b[0;32m~/Library/Python/3.8/lib/python/site-packages/torch/utils/data/dataloader.py:671\u001b[0m, in \u001b[0;36m_SingleProcessDataLoaderIter._next_data\u001b[0;34m(self)\u001b[0m\n\u001b[1;32m    <a href='file:///Users/frederickcunningham/Library/Python/3.8/lib/python/site-packages/torch/utils/data/dataloader.py?line=668'>669</a>\u001b[0m \u001b[39mdef\u001b[39;00m \u001b[39m_next_data\u001b[39m(\u001b[39mself\u001b[39m):\n\u001b[1;32m    <a href='file:///Users/frederickcunningham/Library/Python/3.8/lib/python/site-packages/torch/utils/data/dataloader.py?line=669'>670</a>\u001b[0m     index \u001b[39m=\u001b[39m \u001b[39mself\u001b[39m\u001b[39m.\u001b[39m_next_index()  \u001b[39m# may raise StopIteration\u001b[39;00m\n\u001b[0;32m--> <a href='file:///Users/frederickcunningham/Library/Python/3.8/lib/python/site-packages/torch/utils/data/dataloader.py?line=670'>671</a>\u001b[0m     data \u001b[39m=\u001b[39m \u001b[39mself\u001b[39;49m\u001b[39m.\u001b[39;49m_dataset_fetcher\u001b[39m.\u001b[39;49mfetch(index)  \u001b[39m# may raise StopIteration\u001b[39;00m\n\u001b[1;32m    <a href='file:///Users/frederickcunningham/Library/Python/3.8/lib/python/site-packages/torch/utils/data/dataloader.py?line=671'>672</a>\u001b[0m     \u001b[39mif\u001b[39;00m \u001b[39mself\u001b[39m\u001b[39m.\u001b[39m_pin_memory:\n\u001b[1;32m    <a href='file:///Users/frederickcunningham/Library/Python/3.8/lib/python/site-packages/torch/utils/data/dataloader.py?line=672'>673</a>\u001b[0m         data \u001b[39m=\u001b[39m _utils\u001b[39m.\u001b[39mpin_memory\u001b[39m.\u001b[39mpin_memory(data, \u001b[39mself\u001b[39m\u001b[39m.\u001b[39m_pin_memory_device)\n",
      "File \u001b[0;32m~/Library/Python/3.8/lib/python/site-packages/torch/utils/data/_utils/fetch.py:58\u001b[0m, in \u001b[0;36m_MapDatasetFetcher.fetch\u001b[0;34m(self, possibly_batched_index)\u001b[0m\n\u001b[1;32m     <a href='file:///Users/frederickcunningham/Library/Python/3.8/lib/python/site-packages/torch/utils/data/_utils/fetch.py?line=55'>56</a>\u001b[0m         data \u001b[39m=\u001b[39m \u001b[39mself\u001b[39m\u001b[39m.\u001b[39mdataset\u001b[39m.\u001b[39m__getitems__(possibly_batched_index)\n\u001b[1;32m     <a href='file:///Users/frederickcunningham/Library/Python/3.8/lib/python/site-packages/torch/utils/data/_utils/fetch.py?line=56'>57</a>\u001b[0m     \u001b[39melse\u001b[39;00m:\n\u001b[0;32m---> <a href='file:///Users/frederickcunningham/Library/Python/3.8/lib/python/site-packages/torch/utils/data/_utils/fetch.py?line=57'>58</a>\u001b[0m         data \u001b[39m=\u001b[39m [\u001b[39mself\u001b[39m\u001b[39m.\u001b[39mdataset[idx] \u001b[39mfor\u001b[39;00m idx \u001b[39min\u001b[39;00m possibly_batched_index]\n\u001b[1;32m     <a href='file:///Users/frederickcunningham/Library/Python/3.8/lib/python/site-packages/torch/utils/data/_utils/fetch.py?line=58'>59</a>\u001b[0m \u001b[39melse\u001b[39;00m:\n\u001b[1;32m     <a href='file:///Users/frederickcunningham/Library/Python/3.8/lib/python/site-packages/torch/utils/data/_utils/fetch.py?line=59'>60</a>\u001b[0m     data \u001b[39m=\u001b[39m \u001b[39mself\u001b[39m\u001b[39m.\u001b[39mdataset[possibly_batched_index]\n",
      "File \u001b[0;32m~/Library/Python/3.8/lib/python/site-packages/torch/utils/data/_utils/fetch.py:58\u001b[0m, in \u001b[0;36m<listcomp>\u001b[0;34m(.0)\u001b[0m\n\u001b[1;32m     <a href='file:///Users/frederickcunningham/Library/Python/3.8/lib/python/site-packages/torch/utils/data/_utils/fetch.py?line=55'>56</a>\u001b[0m         data \u001b[39m=\u001b[39m \u001b[39mself\u001b[39m\u001b[39m.\u001b[39mdataset\u001b[39m.\u001b[39m__getitems__(possibly_batched_index)\n\u001b[1;32m     <a href='file:///Users/frederickcunningham/Library/Python/3.8/lib/python/site-packages/torch/utils/data/_utils/fetch.py?line=56'>57</a>\u001b[0m     \u001b[39melse\u001b[39;00m:\n\u001b[0;32m---> <a href='file:///Users/frederickcunningham/Library/Python/3.8/lib/python/site-packages/torch/utils/data/_utils/fetch.py?line=57'>58</a>\u001b[0m         data \u001b[39m=\u001b[39m [\u001b[39mself\u001b[39;49m\u001b[39m.\u001b[39;49mdataset[idx] \u001b[39mfor\u001b[39;00m idx \u001b[39min\u001b[39;00m possibly_batched_index]\n\u001b[1;32m     <a href='file:///Users/frederickcunningham/Library/Python/3.8/lib/python/site-packages/torch/utils/data/_utils/fetch.py?line=58'>59</a>\u001b[0m \u001b[39melse\u001b[39;00m:\n\u001b[1;32m     <a href='file:///Users/frederickcunningham/Library/Python/3.8/lib/python/site-packages/torch/utils/data/_utils/fetch.py?line=59'>60</a>\u001b[0m     data \u001b[39m=\u001b[39m \u001b[39mself\u001b[39m\u001b[39m.\u001b[39mdataset[possibly_batched_index]\n",
      "File \u001b[0;32m~/Documents/GitHub Projects/Neural_Control/data_prep.py:54\u001b[0m, in \u001b[0;36mSystemIdentDataset.__getitem__\u001b[0;34m(self, idx)\u001b[0m\n\u001b[1;32m     <a href='file:///Users/frederickcunningham/Documents/GitHub%20Projects/Neural_Control/data_prep.py?line=52'>53</a>\u001b[0m \u001b[39mdef\u001b[39;00m \u001b[39m__getitem__\u001b[39m(\u001b[39mself\u001b[39m, idx):\n\u001b[0;32m---> <a href='file:///Users/frederickcunningham/Documents/GitHub%20Projects/Neural_Control/data_prep.py?line=53'>54</a>\u001b[0m     \u001b[39mreturn\u001b[39;00m torch\u001b[39m.\u001b[39;49mtensor(\u001b[39mself\u001b[39;49m\u001b[39m.\u001b[39;49mdata[idx][:\u001b[39m4\u001b[39;49m]), torch\u001b[39m.\u001b[39mtensor(\u001b[39mself\u001b[39m\u001b[39m.\u001b[39mdata[idx][\u001b[39m-\u001b[39m\u001b[39m4\u001b[39m:])\n",
      "\u001b[0;31mKeyboardInterrupt\u001b[0m: "
     ]
    }
   ],
   "source": [
    "\n",
    "# Define the model\n",
    "model = torch.nn.Sequential(\n",
    "    torch.nn.Linear(4, 32, dtype=torch.float64),\n",
    "    torch.nn.Tanh(),\n",
    "    torch.nn.Linear(32, 64, dtype=torch.float64),\n",
    "    torch.nn.Tanh(),\n",
    "    torch.nn.Linear(64, 64, dtype=torch.float64),\n",
    "    torch.nn.Tanh(),\n",
    "    torch.nn.Linear(64, 32, dtype=torch.float64),\n",
    "    torch.nn.Tanh(),\n",
    "    torch.nn.Linear(32, 4, dtype=torch.float64),\n",
    ")\n",
    "\n",
    "# Define the loss function\n",
    "loss_fn = torch.nn.MSELoss()\n",
    "\n",
    "# Define the optimizer\n",
    "optimizer = torch.optim.Adam(model.parameters())\n",
    "train(model=model, num_epochs=20, loss_function=loss_fn, optimizer=optimizer, train_loader=train_dloader, val_loader=val_dloader)\n",
    "\n"
   ]
  },
  {
   "cell_type": "code",
   "execution_count": null,
   "metadata": {},
   "outputs": [],
   "source": []
  }
 ],
 "metadata": {
  "interpreter": {
   "hash": "31f2aee4e71d21fbe5cf8b01ff0e069b9275f58929596ceb00d14d90e3e16cd6"
  },
  "kernelspec": {
   "display_name": "Python 3.8.9 64-bit",
   "language": "python",
   "name": "python3"
  },
  "language_info": {
   "codemirror_mode": {
    "name": "ipython",
    "version": 3
   },
   "file_extension": ".py",
   "mimetype": "text/x-python",
   "name": "python",
   "nbconvert_exporter": "python",
   "pygments_lexer": "ipython3",
   "version": "3.8.9"
  },
  "orig_nbformat": 4
 },
 "nbformat": 4,
 "nbformat_minor": 2
}
