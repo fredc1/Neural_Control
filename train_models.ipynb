{
 "cells": [
  {
   "cell_type": "code",
   "execution_count": 2,
   "metadata": {},
   "outputs": [],
   "source": [
    "from data_prep import SystemIdentDataset, ControllerDataset\n",
    "from torch.utils.data import DataLoader\n",
    "from tqdm import tqdm\n",
    "import torch\n",
    "import copy\n",
    "import math\n",
    "\n",
    "train_dataset = SystemIdentDataset(train=True)\n",
    "val_dataset = SystemIdentDataset(train=False)\n",
    "train_dloader = DataLoader(train_dataset, batch_size=256,shuffle=True)\n",
    "val_dloader = DataLoader(val_dataset, batch_size=256, shuffle=True)\n",
    "\n",
    "def evaluate(model, loss_function, val_loader):\n",
    "    c_error = 0.0\n",
    "    cos_sim = torch.nn.CosineSimilarity(dim=1)\n",
    "    running_loss = 0.0\n",
    "    batch_count = 0\n",
    "    for _, example in enumerate(tqdm(val_loader), 0):\n",
    "        inputs,label = example\n",
    "\n",
    "        with torch.no_grad():\n",
    "            outputs = model(inputs)\n",
    "        \n",
    "        loss = loss_function(outputs, label)\n",
    "        \n",
    "        c_error += torch.sum(cos_sim(outputs,label)).item()/val_dloader.batch_size\n",
    "        running_loss += loss.item()\n",
    "        batch_count += 1\n",
    "    \n",
    "    c_error /= batch_count\n",
    "    \n",
    "    return running_loss, c_error\n",
    "\n",
    "def train(model, num_epochs, loss_function, optimizer, train_loader, val_loader):\n",
    "    best_loss = []\n",
    "    best_cerror = []\n",
    "    val_loss, c_error = evaluate(model, loss_function, val_loader)\n",
    "    print(f\"Initial validation loss: {val_loss}, cosine error: {c_error}\")\n",
    "    for epoch in range(num_epochs):\n",
    "        print(f\"Epoch {epoch+1}:\")\n",
    "        for _, example in enumerate(tqdm(train_loader), 0):\n",
    "            inputs,label = example\n",
    "            \n",
    "            outputs = model(inputs)\n",
    "\n",
    "            loss = loss_function(outputs, label)\n",
    "\n",
    "            optimizer.zero_grad()\n",
    "\n",
    "            loss.backward()\n",
    "\n",
    "            optimizer.step()\n",
    "        val_loss, c_error = evaluate(model, loss_function, val_loader)\n",
    "        print(f\"validation loss: {val_loss}, cosine error: {c_error}\")\n",
    "\n",
    "        if epoch < 5:\n",
    "            best_loss.append((copy.deepcopy(model), val_loss, c_error))\n",
    "            best_cerror.append((copy.deepcopy(model), val_loss,c_error))\n",
    "        else:\n",
    "            for i, entry in enumerate(best_loss):\n",
    "                m,l,c = entry\n",
    "                if val_loss < l:\n",
    "                    best_loss[i] = (copy.deepcopy(model), val_loss, c_error)\n",
    "                    break\n",
    "            for i, entry in enumerate(best_cerror):\n",
    "                m,l,c = entry\n",
    "                if c_error > c:\n",
    "                    best_cerror[i] = (copy.deepcopy(model), val_loss, c_error)\n",
    "                    break\n",
    "    return best_loss + best_cerror"
   ]
  },
  {
   "cell_type": "code",
   "execution_count": 3,
   "metadata": {},
   "outputs": [],
   "source": [
    "%%capture\n",
    "import numpy as np\n",
    "# Define the model\n",
    "model = torch.nn.Sequential(\n",
    "    torch.nn.Linear(5, 32, dtype=torch.float64),\n",
    "    torch.nn.Tanh(),\n",
    "    torch.nn.Linear(32, 64, dtype=torch.float64),\n",
    "    torch.nn.Tanh(),\n",
    "    torch.nn.Linear(64, 64, dtype=torch.float64),\n",
    "    torch.nn.Tanh(),\n",
    "    torch.nn.Linear(64, 32, dtype=torch.float64),\n",
    "    torch.nn.Tanh(),\n",
    "    torch.nn.Linear(32, 4, dtype=torch.float64),\n",
    ")\n",
    "\n",
    "# Define the loss function\n",
    "loss_fn = torch.nn.MSELoss()\n",
    "\n",
    "# Define the optimizer\n",
    "optimizer = torch.optim.Adam(model.parameters())\n",
    "best_models = train(model=model, num_epochs=50, loss_function=loss_fn, optimizer=optimizer, train_loader=train_dloader, val_loader=val_dloader)\n",
    "for i, model in enumerate(best_models):\n",
    "    weights, loss, c_error = model\n",
    "    print(f\"Model {i}: loss: {loss}, cosine error: {c_error}\")\n"
   ]
  },
  {
   "cell_type": "code",
   "execution_count": 4,
   "metadata": {},
   "outputs": [
    {
     "name": "stdout",
     "output_type": "stream",
     "text": [
      "Model 0: loss: 1.8170448759788496, cosine error: 0.9950331449142636\n",
      "Model 1: loss: 1.92613692305989, cosine error: 0.9933338245077817\n",
      "Model 2: loss: 1.9410125440446435, cosine error: 0.9937841096484955\n",
      "Model 3: loss: 2.751595918908532, cosine error: 0.9939130181530594\n",
      "Model 4: loss: 2.853689677260321, cosine error: 0.9935595464869591\n",
      "Model 5: loss: 1.8170448759788496, cosine error: 0.9950331449142636\n",
      "Model 6: loss: 2.751595918908532, cosine error: 0.9939130181530594\n",
      "Model 7: loss: 1.9410125440446435, cosine error: 0.9937841096484955\n",
      "Model 8: loss: 1.92613692305989, cosine error: 0.9933338245077817\n",
      "Model 9: loss: 3.619384600129787, cosine error: 0.9907320776721391\n"
     ]
    }
   ],
   "source": [
    "for i, model in enumerate(best_models):\n",
    "    weights, loss, c_error = model\n",
    "    print(f\"Model {i}: loss: {loss}, cosine error: {c_error}\")"
   ]
  },
  {
   "cell_type": "code",
   "execution_count": 12,
   "metadata": {},
   "outputs": [],
   "source": [
    "# Now learn to drive emulated plant from state Zo to Zd in K steps where K is a hyperparameter\n",
    "import math\n",
    "from data_prep import SystemIdentDataset, ControllerDataset\n",
    "\n",
    "train_dataset = ControllerDataset(num_examples=1000000)\n",
    "val_dataset = ControllerDataset(num_examples=20000)\n",
    "train_dloader = DataLoader(train_dataset, batch_size=256,shuffle=True)\n",
    "val_dloader = DataLoader(val_dataset, batch_size=256, shuffle=True)\n",
    "\n",
    "class ControllerTrainedEnclosure(torch.nn.Module):\n",
    "    def __init__(self, emulator_network, K):\n",
    "        super(self.__class__, self).__init__()\n",
    "        emulator_network.requires_grad=False \n",
    "        self.system_emulator = emulator_network\n",
    "        self.K = K\n",
    "        self.network = torch.nn.Sequential(\n",
    "                torch.nn.Linear(4, 32, dtype=torch.float64),\n",
    "                torch.nn.Tanh(),\n",
    "                torch.nn.Linear(32, 64, dtype=torch.float64),\n",
    "                torch.nn.Tanh(),\n",
    "                torch.nn.Linear(64, 64, dtype=torch.float64),\n",
    "                torch.nn.Tanh(),\n",
    "                torch.nn.Linear(64, 32, dtype=torch.float64),\n",
    "                torch.nn.Tanh(),\n",
    "                torch.nn.Linear(32, 1, dtype=torch.float64),\n",
    "                )\n",
    "\n",
    "    def forward(self, x):\n",
    "        for _ in range(self.K):\n",
    "            xnew = torch.zeros_like(x)\n",
    "            u = self.network(x)\n",
    "            xnew[:,0] = u.squeeze()\n",
    "            xnew[:,1:] = x[:,1:]\n",
    "            \n",
    "            dx = self.system_emulator(xnew)\n",
    "            x = x + dx\n",
    "        #torch.nn.utils.clip_grad_norm_(model.parameters(), max_norm=math.inf)\n",
    "        return x\n",
    "\n"
   ]
  },
  {
   "cell_type": "code",
   "execution_count": 13,
   "metadata": {},
   "outputs": [
    {
     "name": "stderr",
     "output_type": "stream",
     "text": [
      "100%|██████████| 79/79 [00:02<00:00, 30.28it/s]\n"
     ]
    },
    {
     "name": "stdout",
     "output_type": "stream",
     "text": [
      "Initial validation loss: 11334.112304635986, cosine error: 0.12409789919147671\n",
      "Epoch 1:\n"
     ]
    },
    {
     "name": "stderr",
     "output_type": "stream",
     "text": [
      "100%|██████████| 3907/3907 [04:48<00:00, 13.56it/s]\n",
      "100%|██████████| 79/79 [00:02<00:00, 30.11it/s]\n"
     ]
    },
    {
     "name": "stdout",
     "output_type": "stream",
     "text": [
      "validation loss: 0.001232625359249112, cosine error: 0.9889218624629882\n",
      "Epoch 2:\n"
     ]
    },
    {
     "name": "stderr",
     "output_type": "stream",
     "text": [
      "100%|██████████| 3907/3907 [04:47<00:00, 13.61it/s]\n",
      "100%|██████████| 79/79 [00:02<00:00, 30.70it/s]\n"
     ]
    },
    {
     "name": "stdout",
     "output_type": "stream",
     "text": [
      "validation loss: 0.0012206012526667222, cosine error: 0.988921066165921\n",
      "Epoch 3:\n"
     ]
    },
    {
     "name": "stderr",
     "output_type": "stream",
     "text": [
      "100%|██████████| 3907/3907 [04:43<00:00, 13.76it/s]\n",
      "100%|██████████| 79/79 [00:02<00:00, 30.83it/s]\n"
     ]
    },
    {
     "name": "stdout",
     "output_type": "stream",
     "text": [
      "validation loss: 0.00016930437322523113, cosine error: 0.9889237376109816\n",
      "Epoch 4:\n"
     ]
    },
    {
     "name": "stderr",
     "output_type": "stream",
     "text": [
      "100%|██████████| 3907/3907 [04:52<00:00, 13.36it/s]\n",
      "100%|██████████| 79/79 [00:02<00:00, 28.74it/s]\n"
     ]
    },
    {
     "name": "stdout",
     "output_type": "stream",
     "text": [
      "validation loss: 2.8472482622639886e-05, cosine error: 0.9889239876534487\n",
      "Epoch 5:\n"
     ]
    },
    {
     "name": "stderr",
     "output_type": "stream",
     "text": [
      "100%|██████████| 3907/3907 [05:01<00:00, 12.95it/s]\n",
      "100%|██████████| 79/79 [00:02<00:00, 30.23it/s]"
     ]
    },
    {
     "name": "stdout",
     "output_type": "stream",
     "text": [
      "validation loss: 0.05117354786361502, cosine error: 0.9888141661612175\n",
      "Model 0: loss: 0.001232625359249112, cosine error: 0.9889218624629882\n",
      "Model 1: loss: 0.0012206012526667222, cosine error: 0.988921066165921\n",
      "Model 2: loss: 0.00016930437322523113, cosine error: 0.9889237376109816\n",
      "Model 3: loss: 2.8472482622639886e-05, cosine error: 0.9889239876534487\n",
      "Model 4: loss: 0.05117354786361502, cosine error: 0.9888141661612175\n",
      "Model 5: loss: 0.001232625359249112, cosine error: 0.9889218624629882\n",
      "Model 6: loss: 0.0012206012526667222, cosine error: 0.988921066165921\n",
      "Model 7: loss: 0.00016930437322523113, cosine error: 0.9889237376109816\n",
      "Model 8: loss: 2.8472482622639886e-05, cosine error: 0.9889239876534487\n",
      "Model 9: loss: 0.05117354786361502, cosine error: 0.9888141661612175\n"
     ]
    },
    {
     "name": "stderr",
     "output_type": "stream",
     "text": [
      "\n"
     ]
    }
   ],
   "source": [
    "import pickle\n",
    "with open('./best_emulator_model.pkl', 'rb') as f:\n",
    "    emulator = pickle.load(f)\n",
    "model = ControllerTrainedEnclosure(emulator, K=30)\n",
    "\n",
    "# Define the loss function\n",
    "loss_fn = torch.nn.MSELoss()\n",
    "\n",
    "# Define the optimizer\n",
    "optimizer = torch.optim.Adam(model.parameters())\n",
    "best_models = train(model=model, num_epochs=5, loss_function=loss_fn, optimizer=optimizer, train_loader=train_dloader, val_loader=val_dloader)\n",
    "for i, model in enumerate(best_models):\n",
    "    weights, loss, c_error = model\n",
    "    print(f\"Model {i}: loss: {loss}, cosine error: {c_error}\")"
   ]
  },
  {
   "cell_type": "code",
   "execution_count": 17,
   "metadata": {},
   "outputs": [],
   "source": [
    "with open('./controller_model.pkl', 'wb') as f:\n",
    "    pickle.dump(best_models[8][0].network, f)\n"
   ]
  },
  {
   "cell_type": "code",
   "execution_count": null,
   "metadata": {},
   "outputs": [],
   "source": []
  }
 ],
 "metadata": {
  "interpreter": {
   "hash": "31f2aee4e71d21fbe5cf8b01ff0e069b9275f58929596ceb00d14d90e3e16cd6"
  },
  "kernelspec": {
   "display_name": "Python 3.8.9 64-bit",
   "language": "python",
   "name": "python3"
  },
  "language_info": {
   "codemirror_mode": {
    "name": "ipython",
    "version": 3
   },
   "file_extension": ".py",
   "mimetype": "text/x-python",
   "name": "python",
   "nbconvert_exporter": "python",
   "pygments_lexer": "ipython3",
   "version": "3.8.9"
  },
  "orig_nbformat": 4
 },
 "nbformat": 4,
 "nbformat_minor": 2
}
